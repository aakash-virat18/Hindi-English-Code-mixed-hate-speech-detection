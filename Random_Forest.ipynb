{
  "nbformat": 4,
  "nbformat_minor": 0,
  "metadata": {
    "colab": {
      "name": "Random Forest.ipynb",
      "provenance": [],
      "collapsed_sections": [],
      "authorship_tag": "ABX9TyOJU8w4m5V6u6i15nBoQFWH"
    },
    "kernelspec": {
      "name": "python3",
      "display_name": "Python 3"
    },
    "language_info": {
      "name": "python"
    }
  },
  "cells": [
    {
      "cell_type": "code",
      "metadata": {
        "id": "wMfaaOS7RmES"
      },
      "source": [
        "import numpy as np\n",
        "import pandas as pd\n",
        "from nltk.corpus import stopwords\n",
        "from sklearn.model_selection import train_test_split\n",
        "from sklearn.feature_extraction.text import CountVectorizer\n",
        "import re\n",
        "from sklearn.ensemble import RandomForestClassifier\n",
        "from sklearn.metrics import precision_recall_fscore_support"
      ],
      "execution_count": null,
      "outputs": []
    },
    {
      "cell_type": "code",
      "metadata": {
        "colab": {
          "base_uri": "https://localhost:8080/"
        },
        "id": "GDUX_wfeUiIq",
        "outputId": "895bfdfc-4187-4cd4-eb09-cbb2515bd564"
      },
      "source": [
        "import nltk\n",
        "nltk.download('stopwords')"
      ],
      "execution_count": null,
      "outputs": [
        {
          "output_type": "stream",
          "text": [
            "[nltk_data] Downloading package stopwords to /root/nltk_data...\n",
            "[nltk_data]   Unzipping corpora/stopwords.zip.\n"
          ],
          "name": "stdout"
        },
        {
          "output_type": "execute_result",
          "data": {
            "text/plain": [
              "True"
            ]
          },
          "metadata": {
            "tags": []
          },
          "execution_count": 2
        }
      ]
    },
    {
      "cell_type": "code",
      "metadata": {
        "id": "SWCKan5PUiV6"
      },
      "source": [
        "df=pd.read_csv(\"dateset_org.csv\")\n",
        "data=df[:8000].copy()\n",
        "test_data=df[8000:].copy()"
      ],
      "execution_count": null,
      "outputs": []
    },
    {
      "cell_type": "code",
      "metadata": {
        "colab": {
          "base_uri": "https://localhost:8080/"
        },
        "id": "rJSMNE_wUihr",
        "outputId": "113cdc64-92fa-470b-f021-ead490906c51"
      },
      "source": [
        "data.isnull().values.any()"
      ],
      "execution_count": null,
      "outputs": [
        {
          "output_type": "execute_result",
          "data": {
            "text/plain": [
              "False"
            ]
          },
          "metadata": {
            "tags": []
          },
          "execution_count": 4
        }
      ]
    },
    {
      "cell_type": "code",
      "metadata": {
        "id": "WegVaqS9Uir4"
      },
      "source": [
        "def tweet_processing(raw_tweet):\n",
        "    letters_only=re.sub(\"[^a-zA-Z]\",\" \",raw_tweet)\n",
        "    words=letters_only.lower().split()\n",
        "    stops=set(stopwords.words(\"english\"))\n",
        "    m_w=[w for w in words if not w in stops]\n",
        "    return (\" \".join(m_w))"
      ],
      "execution_count": null,
      "outputs": []
    },
    {
      "cell_type": "code",
      "metadata": {
        "id": "duk1dcqZUi2V"
      },
      "source": [
        "num_tweets=data[\"sentence\"].size\n",
        "clean_tweet=[]\n",
        "for i in range(0,num_tweets):\n",
        "    clean_tweet.append(tweet_processing(data[\"sentence\"][i]))\n",
        "data[\"sentence\"]=clean_tweet \n",
        "\n",
        "\n",
        "num_tweets_test=test_data[\"sentence\"].size\n",
        "clean_tweet_test=[]\n",
        "for i in range(num_tweets,num_tweets+num_tweets_test):\n",
        "    clean_tweet_test.append(tweet_processing(test_data[\"sentence\"][i]))\n",
        "test_data[\"sentence\"]=clean_tweet_test"
      ],
      "execution_count": null,
      "outputs": []
    },
    {
      "cell_type": "code",
      "metadata": {
        "id": "fcFsUaRZUjAr"
      },
      "source": [
        "X_train, X_test_svm, Y_train, Y_test_svm = train_test_split(df.sentence, df.label, test_size=0.2)"
      ],
      "execution_count": null,
      "outputs": []
    },
    {
      "cell_type": "code",
      "metadata": {
        "id": "tI17jIkjUjKE"
      },
      "source": [
        "vectorizer=CountVectorizer(analyzer = \"word\",tokenizer = None,preprocessor = None,stop_words = None,max_features = 5000)\n",
        "\n",
        "#x_train = vectorizer.fit_transform(x_train.ravel())\n",
        "train_data_features=vectorizer.fit_transform(X_train)\n",
        "train_data_features=train_data_features.toarray()\n",
        "\n",
        "test_data_features=vectorizer.transform(X_test_svm)\n",
        "test_data_features=test_data_features.toarray()"
      ],
      "execution_count": null,
      "outputs": []
    },
    {
      "cell_type": "markdown",
      "metadata": {
        "id": "JXAo3twPa8b3"
      },
      "source": [
        "# Random Forest"
      ]
    },
    {
      "cell_type": "code",
      "metadata": {
        "colab": {
          "base_uri": "https://localhost:8080/"
        },
        "id": "rHk-_zx9U91T",
        "outputId": "65049d0e-8b73-400d-e673-043f90673b7a"
      },
      "source": [
        "#SVM with linear kernel\n",
        "clf=RandomForestClassifier(n_estimators = 10, criterion = 'entropy', random_state = 0)\n",
        "print (\"Training\")\n",
        "clf.fit(train_data_features,Y_train)\n",
        "\n",
        "print (\"Testing\")\n",
        "predicted=clf.predict(test_data_features)\n",
        "accuracy=np.mean(predicted==Y_test_svm)\n",
        "print (\"Accuracy: \",accuracy)"
      ],
      "execution_count": null,
      "outputs": [
        {
          "output_type": "stream",
          "text": [
            "Training\n",
            "Testing\n",
            "Accuracy:  0.8018821198613175\n"
          ],
          "name": "stdout"
        }
      ]
    },
    {
      "cell_type": "code",
      "metadata": {
        "colab": {
          "base_uri": "https://localhost:8080/"
        },
        "id": "GjtEHryVU-Bc",
        "outputId": "149886a0-bb8d-4cff-ecbc-e3e510e9791a"
      },
      "source": [
        "from sklearn.metrics import precision_recall_fscore_support\n",
        "score_svm=precision_recall_fscore_support(Y_test_svm, predicted, average='weighted')\n",
        "print(score_svm)"
      ],
      "execution_count": null,
      "outputs": [
        {
          "output_type": "stream",
          "text": [
            "(0.8043339762579547, 0.8018821198613175, 0.801355025940686, None)\n"
          ],
          "name": "stdout"
        }
      ]
    },
    {
      "cell_type": "code",
      "metadata": {
        "colab": {
          "base_uri": "https://localhost:8080/"
        },
        "id": "lrpPxG22UjTc",
        "outputId": "670992f2-433e-41cc-e259-a3f33edb7f79"
      },
      "source": [
        "from sklearn.metrics import confusion_matrix, accuracy_score\n",
        "cm = confusion_matrix(Y_test_svm, predicted)\n",
        "print(cm)\n",
        "accuracy_score(Y_test_svm, predicted)"
      ],
      "execution_count": null,
      "outputs": [
        {
          "output_type": "stream",
          "text": [
            "[[867 153]\n",
            " [247 752]]\n"
          ],
          "name": "stdout"
        },
        {
          "output_type": "execute_result",
          "data": {
            "text/plain": [
              "0.8018821198613175"
            ]
          },
          "metadata": {
            "tags": []
          },
          "execution_count": 11
        }
      ]
    },
    {
      "cell_type": "code",
      "metadata": {
        "colab": {
          "base_uri": "https://localhost:8080/",
          "height": 282
        },
        "id": "Kza0vyNPVn_B",
        "outputId": "08afac6e-d534-4ec3-a74c-a660f004250e"
      },
      "source": [
        "import seaborn as sns\n",
        "sns.heatmap(cm, annot=True)"
      ],
      "execution_count": null,
      "outputs": [
        {
          "output_type": "execute_result",
          "data": {
            "text/plain": [
              "<matplotlib.axes._subplots.AxesSubplot at 0x7fc0b7cede50>"
            ]
          },
          "metadata": {
            "tags": []
          },
          "execution_count": 12
        },
        {
          "output_type": "display_data",
          "data": {
            "image/png": "[encoded data removed]",
            "text/plain": [
              "<Figure size 432x288 with 2 Axes>"
            ]
          },
          "metadata": {
            "tags": [],
            "needs_background": "light"
          }
        }
      ]
    },
    {
      "cell_type": "code",
      "metadata": {
        "colab": {
          "base_uri": "https://localhost:8080/",
          "height": 282
        },
        "id": "5o-Fx2_uVrLV",
        "outputId": "e7785888-28f7-4dd3-fafe-5b2f4dd3f86c"
      },
      "source": [
        "sns.heatmap(cm/np.sum(cm), annot=True, \n",
        "            fmt='.2%', cmap='Blues')"
      ],
      "execution_count": null,
      "outputs": [
        {
          "output_type": "execute_result",
          "data": {
            "text/plain": [
              "<matplotlib.axes._subplots.AxesSubplot at 0x7fc0ae35f910>"
            ]
          },
          "metadata": {
            "tags": []
          },
          "execution_count": 13
        },
        {
          "output_type": "display_data",
          "data": {
            "image/png": "[encoded data removed]",
            "text/plain": [
              "<Figure size 432x288 with 2 Axes>"
            ]
          },
          "metadata": {
            "tags": [],
            "needs_background": "light"
          }
        }
      ]
    }
  ]
}