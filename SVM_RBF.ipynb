{
  "nbformat": 4,
  "nbformat_minor": 0,
  "metadata": {
    "colab": {
      "name": "SVM RBF.ipynb",
      "provenance": [],
      "authorship_tag": "ABX9TyPDoGvaJBxDMbKuAPtndoik"
    },
    "kernelspec": {
      "name": "python3",
      "display_name": "Python 3"
    },
    "language_info": {
      "name": "python"
    }
  },
  "cells": [
    {
      "cell_type": "code",
      "metadata": {
        "id": "kuDignDnNhlJ"
      },
      "source": [
        "import numpy as np\n",
        "import pandas as pd\n",
        "from nltk.corpus import stopwords\n",
        "from sklearn.model_selection import train_test_split\n",
        "from sklearn.feature_extraction.text import CountVectorizer\n",
        "import re\n",
        "from sklearn import svm\n",
        "from sklearn.metrics import precision_recall_fscore_support\n"
      ],
      "execution_count": null,
      "outputs": []
    },
    {
      "cell_type": "code",
      "metadata": {
        "colab": {
          "base_uri": "https://localhost:8080/"
        },
        "id": "-zMjDFZ_P210",
        "outputId": "7cb95777-3d58-4296-c352-db07f941bbec"
      },
      "source": [
        "import nltk\n",
        "nltk.download('stopwords')"
      ],
      "execution_count": null,
      "outputs": [
        {
          "output_type": "stream",
          "text": [
            "[nltk_data] Downloading package stopwords to /root/nltk_data...\n",
            "[nltk_data]   Unzipping corpora/stopwords.zip.\n"
          ],
          "name": "stdout"
        },
        {
          "output_type": "execute_result",
          "data": {
            "text/plain": [
              "True"
            ]
          },
          "metadata": {
            "tags": []
          },
          "execution_count": 2
        }
      ]
    },
    {
      "cell_type": "code",
      "metadata": {
        "id": "zHl0_nhzP5au"
      },
      "source": [
        "df=pd.read_csv(\"dateset_org.csv\")\n",
        "data=df[:8000].copy()\n",
        "test_data=df[8000:].copy()"
      ],
      "execution_count": null,
      "outputs": []
    },
    {
      "cell_type": "code",
      "metadata": {
        "colab": {
          "base_uri": "https://localhost:8080/"
        },
        "id": "1dOwVDOgP7qn",
        "outputId": "32a0d64a-17e1-4717-994b-30706731c9a9"
      },
      "source": [
        "data.isnull().values.any()"
      ],
      "execution_count": null,
      "outputs": [
        {
          "output_type": "execute_result",
          "data": {
            "text/plain": [
              "False"
            ]
          },
          "metadata": {
            "tags": []
          },
          "execution_count": 4
        }
      ]
    },
    {
      "cell_type": "code",
      "metadata": {
        "id": "s9dRYWdzP_yg"
      },
      "source": [
        "def tweet_processing(raw_tweet):\n",
        "    letters_only=re.sub(\"[^a-zA-Z]\",\" \",raw_tweet)\n",
        "    words=letters_only.lower().split()\n",
        "    stops=set(stopwords.words(\"english\"))\n",
        "    m_w=[w for w in words if not w in stops]\n",
        "    return (\" \".join(m_w))"
      ],
      "execution_count": null,
      "outputs": []
    },
    {
      "cell_type": "code",
      "metadata": {
        "id": "OpqmpMA1QBXW"
      },
      "source": [
        "num_tweets=data[\"sentence\"].size\n",
        "clean_tweet=[]\n",
        "for i in range(0,num_tweets):\n",
        "    clean_tweet.append(tweet_processing(data[\"sentence\"][i]))\n",
        "data[\"sentence\"]=clean_tweet \n",
        "\n",
        "\n",
        "num_tweets_test=test_data[\"sentence\"].size\n",
        "clean_tweet_test=[]\n",
        "for i in range(num_tweets,num_tweets+num_tweets_test):\n",
        "    clean_tweet_test.append(tweet_processing(test_data[\"sentence\"][i]))\n",
        "test_data[\"sentence\"]=clean_tweet_test"
      ],
      "execution_count": null,
      "outputs": []
    },
    {
      "cell_type": "code",
      "metadata": {
        "id": "UqPJtOtWQGHR"
      },
      "source": [
        "X_train, X_test_svm, Y_train, Y_test_svm = train_test_split(df.sentence, df.label, test_size=0.2)"
      ],
      "execution_count": null,
      "outputs": []
    },
    {
      "cell_type": "code",
      "metadata": {
        "id": "5vzlwx40QHD3"
      },
      "source": [
        "vectorizer=CountVectorizer(analyzer = \"word\",tokenizer = None,preprocessor = None,stop_words = None,max_features = 5000)\n",
        "\n",
        "#x_train = vectorizer.fit_transform(x_train.ravel())\n",
        "train_data_features=vectorizer.fit_transform(X_train)\n",
        "train_data_features=train_data_features.toarray()\n",
        "\n",
        "test_data_features=vectorizer.transform(X_test_svm)\n",
        "test_data_features=test_data_features.toarray()"
      ],
      "execution_count": null,
      "outputs": []
    },
    {
      "cell_type": "markdown",
      "metadata": {
        "id": "VBHvyIVgaiXu"
      },
      "source": [
        "# SVM RBF"
      ]
    },
    {
      "cell_type": "code",
      "metadata": {
        "colab": {
          "base_uri": "https://localhost:8080/"
        },
        "id": "2MeV07zlQKRJ",
        "outputId": "4a86e351-450e-4a31-ca8e-ad5d16879eda"
      },
      "source": [
        "clf=svm.SVC(kernel='rbf',C=1.0)\n",
        "print (\"Training\")\n",
        "clf.fit(train_data_features,Y_train)\n",
        "\n",
        "print (\"Testing\")\n",
        "predicted=clf.predict(test_data_features)\n",
        "accuracy=np.mean(predicted==Y_test_svm)\n",
        "print (\"Accuracy: \",accuracy)"
      ],
      "execution_count": null,
      "outputs": [
        {
          "output_type": "stream",
          "text": [
            "Training\n",
            "Testing\n",
            "Accuracy:  0.8375433382862804\n"
          ],
          "name": "stdout"
        }
      ]
    },
    {
      "cell_type": "code",
      "metadata": {
        "colab": {
          "base_uri": "https://localhost:8080/"
        },
        "id": "k7by-2O0QNmW",
        "outputId": "f167c037-d5fc-4582-f80c-7dc5b44270ba"
      },
      "source": [
        "from sklearn.metrics import precision_recall_fscore_support\n",
        "score_svm=precision_recall_fscore_support(Y_test_svm, predicted, average='weighted')\n",
        "print(score_svm)"
      ],
      "execution_count": null,
      "outputs": [
        {
          "output_type": "stream",
          "text": [
            "(0.8382852010176413, 0.8375433382862804, 0.8375517075421415, None)\n"
          ],
          "name": "stdout"
        }
      ]
    },
    {
      "cell_type": "code",
      "metadata": {
        "colab": {
          "base_uri": "https://localhost:8080/"
        },
        "id": "KB6vGfRAQppy",
        "outputId": "bcad7f00-68c1-4fc4-ac07-221ffe77a5b8"
      },
      "source": [
        "from sklearn.metrics import confusion_matrix, accuracy_score\n",
        "cm = confusion_matrix(Y_test_svm, predicted)\n",
        "print(cm)\n",
        "accuracy_score(Y_test_svm, predicted)"
      ],
      "execution_count": null,
      "outputs": [
        {
          "output_type": "stream",
          "text": [
            "[[843 143]\n",
            " [185 848]]\n"
          ],
          "name": "stdout"
        },
        {
          "output_type": "execute_result",
          "data": {
            "text/plain": [
              "0.8375433382862804"
            ]
          },
          "metadata": {
            "tags": []
          },
          "execution_count": 11
        }
      ]
    },
    {
      "cell_type": "code",
      "metadata": {
        "colab": {
          "base_uri": "https://localhost:8080/",
          "height": 282
        },
        "id": "9bCO6hSRQlRl",
        "outputId": "b364622b-c12f-449b-87b8-81cbb2f37588"
      },
      "source": [
        "import seaborn as sns\n",
        "sns.heatmap(cm, annot=True)"
      ],
      "execution_count": null,
      "outputs": [
        {
          "output_type": "execute_result",
          "data": {
            "text/plain": [
              "<matplotlib.axes._subplots.AxesSubplot at 0x7f7c3ad8e0d0>"
            ]
          },
          "metadata": {
            "tags": []
          },
          "execution_count": 12
        },
        {
          "output_type": "display_data",
          "data": {
            "image/png": "[encoded data removed]",
            "text/plain": [
              "<Figure size 432x288 with 2 Axes>"
            ]
          },
          "metadata": {
            "tags": [],
            "needs_background": "light"
          }
        }
      ]
    },
    {
      "cell_type": "code",
      "metadata": {
        "colab": {
          "base_uri": "https://localhost:8080/",
          "height": 282
        },
        "id": "WhKvqu6vQsRl",
        "outputId": "e8d154b9-af5a-4991-d873-0ba123458db2"
      },
      "source": [
        "sns.heatmap(cm/np.sum(cm), annot=True, \n",
        "            fmt='.2%', cmap='Blues')"
      ],
      "execution_count": null,
      "outputs": [
        {
          "output_type": "execute_result",
          "data": {
            "text/plain": [
              "<matplotlib.axes._subplots.AxesSubplot at 0x7f7c3accfa50>"
            ]
          },
          "metadata": {
            "tags": []
          },
          "execution_count": 13
        },
        {
          "output_type": "display_data",
          "data": {
            "image/png": "[encoded data removed]",
            "text/plain": [
              "<Figure size 432x288 with 2 Axes>"
            ]
          },
          "metadata": {
            "tags": [],
            "needs_background": "light"
          }
        }
      ]
    }
  ]
}