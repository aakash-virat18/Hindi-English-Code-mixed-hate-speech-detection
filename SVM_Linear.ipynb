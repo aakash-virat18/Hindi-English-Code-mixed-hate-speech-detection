{
  "nbformat": 4,
  "nbformat_minor": 0,
  "metadata": {
    "kernelspec": {
      "display_name": "Python 3",
      "language": "python",
      "name": "python3"
    },
    "language_info": {
      "codemirror_mode": {
        "name": "ipython",
        "version": 3
      },
      "file_extension": ".py",
      "mimetype": "text/x-python",
      "name": "python",
      "nbconvert_exporter": "python",
      "pygments_lexer": "ipython3",
      "version": "3.6.5"
    },
    "colab": {
      "name": "SVM Linear.ipynb",
      "provenance": [],
      "toc_visible": true
    }
  },
  "cells": [
    {
      "cell_type": "markdown",
      "metadata": {
        "id": "qK3RCnNi-iBh"
      },
      "source": [
        "# Importing Libraries"
      ]
    },
    {
      "cell_type": "code",
      "metadata": {
        "id": "oF0rYokJEIh2"
      },
      "source": [
        "import numpy as np\n",
        "import pandas as pd\n",
        "from nltk.corpus import stopwords\n",
        "from sklearn.model_selection import train_test_split\n",
        "from sklearn.feature_extraction.text import CountVectorizer\n",
        "import re\n",
        "from sklearn import svm\n",
        "from sklearn.metrics import precision_recall_fscore_support\n"
      ],
      "execution_count": null,
      "outputs": []
    },
    {
      "cell_type": "code",
      "metadata": {
        "colab": {
          "base_uri": "https://localhost:8080/"
        },
        "id": "XkKIb461-0eR",
        "outputId": "a51b8dbe-9509-41de-caba-f10ae6129451"
      },
      "source": [
        "import nltk\n",
        "nltk.download('stopwords')"
      ],
      "execution_count": null,
      "outputs": [
        {
          "output_type": "stream",
          "text": [
            "[nltk_data] Downloading package stopwords to /root/nltk_data...\n",
            "[nltk_data]   Package stopwords is already up-to-date!\n"
          ],
          "name": "stdout"
        },
        {
          "output_type": "execute_result",
          "data": {
            "text/plain": [
              "True"
            ]
          },
          "metadata": {
            "tags": []
          },
          "execution_count": 33
        }
      ]
    },
    {
      "cell_type": "markdown",
      "metadata": {
        "id": "-BuV90q3EIiZ"
      },
      "source": [
        "## Loading Data"
      ]
    },
    {
      "cell_type": "code",
      "metadata": {
        "id": "Q5z0qlf-6msO"
      },
      "source": [
        "df=pd.read_csv(\"dateset_org.csv\")\n",
        "data=df[:8000].copy()\n",
        "test_data=df[8000:].copy()"
      ],
      "execution_count": null,
      "outputs": []
    },
    {
      "cell_type": "markdown",
      "metadata": {
        "id": "3u40URZ4EIih"
      },
      "source": [
        "## Data Preprocessing"
      ]
    },
    {
      "cell_type": "code",
      "metadata": {
        "colab": {
          "base_uri": "https://localhost:8080/"
        },
        "id": "Y-YOkDZ7EIii",
        "outputId": "811febb6-ceac-4539-a9a8-72a76632fbc2"
      },
      "source": [
        "data.isnull().values.any()"
      ],
      "execution_count": null,
      "outputs": [
        {
          "output_type": "execute_result",
          "data": {
            "text/plain": [
              "False"
            ]
          },
          "metadata": {
            "tags": []
          },
          "execution_count": 35
        }
      ]
    },
    {
      "cell_type": "code",
      "metadata": {
        "id": "qbBF47t5EIin"
      },
      "source": [
        "def tweet_processing(raw_tweet):\n",
        "    letters_only=re.sub(\"[^a-zA-Z]\",\" \",raw_tweet)\n",
        "    words=letters_only.lower().split()\n",
        "    stops=set(stopwords.words(\"english\"))\n",
        "    m_w=[w for w in words if not w in stops]\n",
        "    return (\" \".join(m_w))"
      ],
      "execution_count": null,
      "outputs": []
    },
    {
      "cell_type": "code",
      "metadata": {
        "colab": {
          "base_uri": "https://localhost:8080/"
        },
        "id": "DfeY3UFEBMrb",
        "outputId": "087f4b2b-73ce-4ede-b6b3-87789061f521"
      },
      "source": [
        "print(data[\"sentence\"].size)"
      ],
      "execution_count": null,
      "outputs": [
        {
          "output_type": "stream",
          "text": [
            "8000\n"
          ],
          "name": "stdout"
        }
      ]
    },
    {
      "cell_type": "code",
      "metadata": {
        "id": "83WWyzwyEIip"
      },
      "source": [
        "num_tweets=data[\"sentence\"].size\n",
        "clean_tweet=[]\n",
        "for i in range(0,num_tweets):\n",
        "    clean_tweet.append(tweet_processing(data[\"sentence\"][i]))\n",
        "data[\"sentence\"]=clean_tweet \n",
        "\n",
        "\n",
        "num_tweets_test=test_data[\"sentence\"].size\n",
        "clean_tweet_test=[]\n",
        "for i in range(num_tweets,num_tweets+num_tweets_test):\n",
        "    clean_tweet_test.append(tweet_processing(test_data[\"sentence\"][i]))\n",
        "test_data[\"sentence\"]=clean_tweet_test"
      ],
      "execution_count": null,
      "outputs": []
    },
    {
      "cell_type": "markdown",
      "metadata": {
        "id": "XrV4QkejEIir"
      },
      "source": [
        "## Baseline model : SVM"
      ]
    },
    {
      "cell_type": "code",
      "metadata": {
        "id": "wPn_Rt5HEIis"
      },
      "source": [
        "X_train, X_test_svm, Y_train, Y_test_svm = train_test_split(df.sentence, df.label, test_size=0.2)"
      ],
      "execution_count": null,
      "outputs": []
    },
    {
      "cell_type": "code",
      "metadata": {
        "id": "5duanNDSEIiv"
      },
      "source": [
        "vectorizer=CountVectorizer(analyzer = \"word\",tokenizer = None,preprocessor = None,stop_words = None,max_features = 5000)\n",
        "\n",
        "#x_train = vectorizer.fit_transform(x_train.ravel())\n",
        "train_data_features=vectorizer.fit_transform(X_train)\n",
        "train_data_features=train_data_features.toarray()\n",
        "\n",
        "test_data_features=vectorizer.transform(X_test_svm)\n",
        "test_data_features=test_data_features.toarray()"
      ],
      "execution_count": null,
      "outputs": []
    },
    {
      "cell_type": "markdown",
      "metadata": {
        "id": "OlSsw6TsawL_"
      },
      "source": [
        "# SVM linear"
      ]
    },
    {
      "cell_type": "code",
      "metadata": {
        "colab": {
          "base_uri": "https://localhost:8080/"
        },
        "id": "Jh32b7GmEIiy",
        "outputId": "4ccbeeca-a9d4-4f0b-ff74-8a02c8769e89"
      },
      "source": [
        "#SVM with linear kernel\n",
        "clf=svm.SVC(kernel='linear',C=1.0)\n",
        "print (\"Training\")\n",
        "clf.fit(train_data_features,Y_train)\n",
        "\n",
        "print (\"Testing\")\n",
        "predicted=clf.predict(test_data_features)\n",
        "accuracy=np.mean(predicted==Y_test_svm)\n",
        "print (\"Accuracy: \",accuracy)"
      ],
      "execution_count": null,
      "outputs": [
        {
          "output_type": "stream",
          "text": [
            "Training\n",
            "Testing\n",
            "Accuracy:  0.8013868251609708\n"
          ],
          "name": "stdout"
        }
      ]
    },
    {
      "cell_type": "markdown",
      "metadata": {
        "id": "Mjz5mXYlEIi2"
      },
      "source": [
        "__precision,recall,F1 score for svm model__"
      ]
    },
    {
      "cell_type": "code",
      "metadata": {
        "colab": {
          "base_uri": "https://localhost:8080/"
        },
        "id": "3obWFHhSEIi4",
        "outputId": "e3850d73-2794-4bcb-992a-40154a1c3293"
      },
      "source": [
        "from sklearn.metrics import precision_recall_fscore_support\n",
        "score_svm=precision_recall_fscore_support(Y_test_svm, predicted, average='weighted')\n",
        "print(score_svm)"
      ],
      "execution_count": null,
      "outputs": [
        {
          "output_type": "stream",
          "text": [
            "(0.8014455079243562, 0.8013868251609708, 0.8014112466492299, None)\n"
          ],
          "name": "stdout"
        }
      ]
    },
    {
      "cell_type": "code",
      "metadata": {
        "colab": {
          "base_uri": "https://localhost:8080/"
        },
        "id": "5rjZE3GVMrqs",
        "outputId": "1933bb71-6489-4c15-92a4-d5ba7e48ce50"
      },
      "source": [
        "from sklearn.metrics import confusion_matrix, accuracy_score\n",
        "cm = confusion_matrix(Y_test_svm, predicted)\n",
        "print(cm)\n",
        "accuracy_score(Y_test_svm, predicted)"
      ],
      "execution_count": null,
      "outputs": [
        {
          "output_type": "stream",
          "text": [
            "[[759 198]\n",
            " [203 859]]\n"
          ],
          "name": "stdout"
        },
        {
          "output_type": "execute_result",
          "data": {
            "text/plain": [
              "0.8013868251609708"
            ]
          },
          "metadata": {
            "tags": []
          },
          "execution_count": 43
        }
      ]
    },
    {
      "cell_type": "code",
      "metadata": {
        "colab": {
          "base_uri": "https://localhost:8080/",
          "height": 282
        },
        "id": "FWHCK1e1kSlQ",
        "outputId": "9deda44e-23b1-4d2f-d074-5fe1b2cbb154"
      },
      "source": [
        "import seaborn as sns\n",
        "sns.heatmap(cm, annot=True)"
      ],
      "execution_count": null,
      "outputs": [
        {
          "output_type": "execute_result",
          "data": {
            "text/plain": [
              "<matplotlib.axes._subplots.AxesSubplot at 0x7f88529fcf90>"
            ]
          },
          "metadata": {
            "tags": []
          },
          "execution_count": 44
        },
        {
          "output_type": "display_data",
          "data": {
            "image/png": "[encoded data removed]",
            "text/plain": [
              "<Figure size 432x288 with 2 Axes>"
            ]
          },
          "metadata": {
            "tags": [],
            "needs_background": "light"
          }
        }
      ]
    },
    {
      "cell_type": "code",
      "metadata": {
        "colab": {
          "base_uri": "https://localhost:8080/",
          "height": 282
        },
        "id": "eJzad-B5B_rU",
        "outputId": "0243adf5-6f9a-4e0a-d417-83aadc171eb1"
      },
      "source": [
        "sns.heatmap(cm/np.sum(cm), annot=True, \n",
        "            fmt='.2%', cmap='Blues')"
      ],
      "execution_count": null,
      "outputs": [
        {
          "output_type": "execute_result",
          "data": {
            "text/plain": [
              "<matplotlib.axes._subplots.AxesSubplot at 0x7f8852a51710>"
            ]
          },
          "metadata": {
            "tags": []
          },
          "execution_count": 45
        },
        {
          "output_type": "display_data",
          "data": {
            "image/png": "[encoded data removed]",
            "text/plain": [
              "<Figure size 432x288 with 2 Axes>"
            ]
          },
          "metadata": {
            "tags": [],
            "needs_background": "light"
          }
        }
      ]
    },
    {
      "cell_type": "code",
      "metadata": {
        "colab": {
          "base_uri": "https://localhost:8080/",
          "height": 282
        },
        "id": "onkJfATICEsw",
        "outputId": "36392252-2732-44ec-bff0-764a76bf5e82"
      },
      "source": [
        "labels = ['True positive','False negative','False positive','True negative']\n",
        "labels = np.asarray(labels).reshape(2,2)\n",
        "sns.heatmap(cm, annot=labels, fmt='', cmap='Blues')"
      ],
      "execution_count": null,
      "outputs": [
        {
          "output_type": "execute_result",
          "data": {
            "text/plain": [
              "<matplotlib.axes._subplots.AxesSubplot at 0x7f8848b9ce90>"
            ]
          },
          "metadata": {
            "tags": []
          },
          "execution_count": 46
        },
        {
          "output_type": "display_data",
          "data": {
            "image/png": "[encoded data removed]",
            "text/plain": [
              "<Figure size 432x288 with 2 Axes>"
            ]
          },
          "metadata": {
            "tags": [],
            "needs_background": "light"
          }
        }
      ]
    }
  ]
}